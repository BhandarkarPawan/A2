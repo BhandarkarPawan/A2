{
 "cells": [
  {
   "cell_type": "code",
   "execution_count": 5,
   "id": "b9473905",
   "metadata": {},
   "outputs": [],
   "source": [
    "from sklearn import datasets \n",
    "import pandas as pd \n",
    "from sklearn.metrics import accuracy_score, f1_score\n",
    "from sklearn.model_selection import StratifiedKFold\n",
    "from sklearn.tree import DecisionTreeClassifier"
   ]
  },
  {
   "cell_type": "code",
   "execution_count": 6,
   "id": "3995d3ab",
   "metadata": {},
   "outputs": [],
   "source": [
    "data = datasets.load_breast_cancer(return_X_y=False, as_frame=True)\n",
    "X: pd.DataFrame = data[\"data\"]\n",
    "y: pd.Series = data[\"target\"]"
   ]
  },
  {
   "cell_type": "code",
   "execution_count": 14,
   "id": "bb8eab8e",
   "metadata": {},
   "outputs": [],
   "source": [
    "def evaluate_selection(X: pd.DataFrame, y: pd.Series, cv: int = 10):\n",
    "    average_accuracy = 0\n",
    "    average_f1 = 0\n",
    "\n",
    "    for i, (train_index, test_index) in enumerate(\n",
    "        StratifiedKFold(n_splits=cv, shuffle=True).split(X, y)\n",
    "    ):\n",
    "\n",
    "        X_train, X_test = X.iloc[train_index], X.iloc[test_index]\n",
    "        y_train, y_test = y.iloc[train_index], y.iloc[test_index]\n",
    "\n",
    "        model = DecisionTreeClassifier()\n",
    "        model.fit(X_train, y_train)\n",
    "        y_pred = model.predict(X_test)\n",
    "        accuracy = accuracy_score(y_test, y_pred)\n",
    "        f1 = f1_score(y_test, y_pred)\n",
    "\n",
    "        average_accuracy += accuracy\n",
    "        average_f1 += f1\n",
    "\n",
    "    average_accuracy /= cv\n",
    "    average_f1 /= cv\n",
    "\n",
    "    return average_accuracy, average_f1"
   ]
  },
  {
   "cell_type": "code",
   "execution_count": 76,
   "id": "a94ffb25",
   "metadata": {},
   "outputs": [
    {
     "name": "stdout",
     "output_type": "stream",
     "text": [
      "0.9270178571428568 0.9414571724742632\n"
     ]
    }
   ],
   "source": [
    "avg_acc, avg_f1 = 0, 0\n",
    "for _ in range(100):\n",
    "    acc, f1 = evaluate_selection(X, y)\n",
    "    avg_acc += acc\n",
    "    avg_f1 += f1 \n",
    "\n",
    "avg_acc /= 100\n",
    "avg_f1 /= 100 \n",
    "\n",
    "print(avg_acc, avg_f1)"
   ]
  },
  {
   "cell_type": "code",
   "execution_count": 78,
   "id": "a3527474",
   "metadata": {},
   "outputs": [],
   "source": [
    "columns = ['mean texture', 'mean perimeter', 'mean smoothness', 'mean symmetry', 'mean fractal dimension', 'compactness error', 'symmetry error', 'fractal dimension error', 'worst area', 'worst smoothness', 'worst fractal dimension']\n",
    "X_small = X[columns]"
   ]
  },
  {
   "cell_type": "code",
   "execution_count": 79,
   "id": "9faafc51",
   "metadata": {},
   "outputs": [
    {
     "name": "stdout",
     "output_type": "stream",
     "text": [
      "0.932750939849624 0.9461452708571712\n"
     ]
    }
   ],
   "source": [
    "avg_acc, avg_f1 = 0, 0\n",
    "for _ in range(100):\n",
    "    acc, f1 = evaluate_selection(X_small, y)\n",
    "    avg_acc += acc\n",
    "    avg_f1 += f1 \n",
    "\n",
    "avg_acc /= 100\n",
    "avg_f1 /= 100 \n",
    "\n",
    "print(avg_acc, avg_f1)"
   ]
  },
  {
   "cell_type": "code",
   "execution_count": null,
   "id": "ae585a73",
   "metadata": {},
   "outputs": [],
   "source": []
  },
  {
   "cell_type": "code",
   "execution_count": null,
   "id": "e18e1c11",
   "metadata": {},
   "outputs": [],
   "source": []
  }
 ],
 "metadata": {
  "kernelspec": {
   "display_name": "metaheuristics",
   "language": "python",
   "name": "metaheuristics"
  },
  "language_info": {
   "codemirror_mode": {
    "name": "ipython",
    "version": 3
   },
   "file_extension": ".py",
   "mimetype": "text/x-python",
   "name": "python",
   "nbconvert_exporter": "python",
   "pygments_lexer": "ipython3",
   "version": "3.9.6"
  }
 },
 "nbformat": 4,
 "nbformat_minor": 5
}
